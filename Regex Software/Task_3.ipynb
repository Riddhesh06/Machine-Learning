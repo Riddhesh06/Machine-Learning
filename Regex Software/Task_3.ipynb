{
  "nbformat": 4,
  "nbformat_minor": 0,
  "metadata": {
    "colab": {
      "name": "Assignment3.ipynb",
      "provenance": [],
      "collapsed_sections": []
    },
    "kernelspec": {
      "name": "python3",
      "display_name": "Python 3"
    },
    "language_info": {
      "name": "python"
    }
  },
  "cells": [
    {
      "cell_type": "markdown",
      "metadata": {
        "id": "qFWYnKdKEgCh"
      },
      "source": [
        "#Task_3\n",
        "\n",
        "SIRSS1035\n",
        "\n",
        "Riddhesh Khedekar"
      ]
    },
    {
      "cell_type": "markdown",
      "metadata": {
        "id": "EUvZp-gq8vbv"
      },
      "source": [
        "Q1. Write a function to return nth term of Fibonacci sequence."
      ]
    },
    {
      "cell_type": "code",
      "metadata": {
        "colab": {
          "base_uri": "https://localhost:8080/"
        },
        "id": "GGJnnAEV8t0I",
        "outputId": "2e7f802a-9a78-4fa0-f1ab-d048bc009071"
      },
      "source": [
        "def fibonacci(n):\n",
        "    if n < 0:\n",
        "        print(\"Enter Positive integers only.\")\n",
        "    elif n == 1:\n",
        "        return 0\n",
        "    elif n == 2:\n",
        "        return 1\n",
        "    else:\n",
        "        return fibonacci(n-1)+fibonacci(n-2)\n",
        "\n",
        "\n",
        "num = int(input(\"enter value of n: \"))\n",
        "print(\"nth term Fibonacci is\" , fibonacci(num))"
      ],
      "execution_count": 5,
      "outputs": [
        {
          "output_type": "stream",
          "text": [
            "enter value of n: 5\n",
            "nth term Fibonacci is 3\n"
          ],
          "name": "stdout"
        }
      ]
    },
    {
      "cell_type": "markdown",
      "metadata": {
        "id": "IcoU0nku84x0"
      },
      "source": [
        "Q2. Write a function to find out GCD of two numbers using EUCLID'S algorithm."
      ]
    },
    {
      "cell_type": "code",
      "metadata": {
        "colab": {
          "base_uri": "https://localhost:8080/"
        },
        "id": "NAJAMciP87Vu",
        "outputId": "1d53b7bb-cf93-4952-e1b3-2179089bcd28"
      },
      "source": [
        "def gcd(n1, n2) :\n",
        "    if n2 == 0 :\n",
        "        return n1\n",
        "    else :\n",
        "        return gcd(n2, n1 % n2)\n",
        "        \n",
        "n1 = int(input(\"Enter 1st Number : \"))\n",
        "n2 = int(input(\"Enter 2nd Number : \"))\n",
        "\n",
        "print(f\"GCD of ({n1},{n2}) = \", gcd(n1,n2))"
      ],
      "execution_count": 6,
      "outputs": [
        {
          "output_type": "stream",
          "text": [
            "Enter 1st Number : 10\n",
            "Enter 2nd Number : 20\n",
            "GCD of (10,20) =  10\n"
          ],
          "name": "stdout"
        }
      ]
    },
    {
      "cell_type": "markdown",
      "metadata": {
        "id": "cCPONoAb9IZj"
      },
      "source": [
        "Q3. Write a function to find LCM of two number in most optimizers way."
      ]
    },
    {
      "cell_type": "code",
      "metadata": {
        "colab": {
          "base_uri": "https://localhost:8080/"
        },
        "id": "PSvzxlrM9MA9",
        "outputId": "3619f7a2-0187-4d37-9269-e41ecde93e8f"
      },
      "source": [
        "def gcd(n1, n2) :\n",
        "    if n2 == 0 :\n",
        "        return n1\n",
        "    else :\n",
        "        return gcd(n2, n1 % n2)\n",
        "    \n",
        "def lcm(n1, n2) :\n",
        "    return (n1 / gcd(n1,n2)) * n2\n",
        "\n",
        "n1 = int(input(\"Enter 1st Number : \"))\n",
        "n2 = int(input(\"Enter 2nd Number : \"))\n",
        "\n",
        "print(f\"LCM of ({n1},{n2}) = \", lcm(n1,n2))"
      ],
      "execution_count": 7,
      "outputs": [
        {
          "output_type": "stream",
          "text": [
            "Enter 1st Number : 10\n",
            "Enter 2nd Number : 20\n",
            "LCM of (10,20) =  20.0\n"
          ],
          "name": "stdout"
        }
      ]
    }
  ]
}