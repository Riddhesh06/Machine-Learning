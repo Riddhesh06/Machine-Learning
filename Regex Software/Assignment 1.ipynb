{
  "nbformat": 4,
  "nbformat_minor": 0,
  "metadata": {
    "colab": {
      "name": "Assignment1.ipynb",
      "provenance": [],
      "collapsed_sections": []
    },
    "kernelspec": {
      "name": "python3",
      "display_name": "Python 3"
    },
    "language_info": {
      "name": "python"
    }
  },
  "cells": [
    {
      "cell_type": "markdown",
      "metadata": {
        "id": "aqgA-6ZuYEKo"
      },
      "source": [
        " #Task 1\n",
        "- SIRSS1194\n",
        "- Anurag Mhatre"
      ]
    },
    {
      "cell_type": "markdown",
      "metadata": {
        "id": "MSEMnotBgTBk"
      },
      "source": [
        "#1.\n",
        "###5 5 5 5 5\n",
        "###5 5 5 5\n",
        "###5 5 5\n",
        "###5 5\n",
        "###5"
      ]
    },
    {
      "cell_type": "code",
      "metadata": {
        "colab": {
          "base_uri": "https://localhost:8080/"
        },
        "id": "9zG84pZLgM8V",
        "outputId": "d9bb5f3d-2308-4da7-9053-2dbfb00f3063"
      },
      "source": [
        "n = int(input(\"Choose a number of rows\"));\n",
        "for i in range(n,0,-1):\n",
        "  for j in range(1,i+1):\n",
        "    print(\"5\" , end =\" \");\n",
        "  print(\"\\n\");"
      ],
      "execution_count": null,
      "outputs": [
        {
          "output_type": "stream",
          "text": [
            "Choose a number of rows5\n",
            "5 5 5 5 5 \n",
            "\n",
            "5 5 5 5 \n",
            "\n",
            "5 5 5 \n",
            "\n",
            "5 5 \n",
            "\n",
            "5 \n",
            "\n"
          ],
          "name": "stdout"
        }
      ]
    },
    {
      "cell_type": "markdown",
      "metadata": {
        "id": "eiW_xNCDi4Kd"
      },
      "source": [
        "#2.\n",
        "###0 1 2 3 4 5\n",
        "###0 1 2 3 4\n",
        "###0 1 2 3\n",
        "###0 1 2\n",
        "###0 1"
      ]
    },
    {
      "cell_type": "code",
      "metadata": {
        "colab": {
          "base_uri": "https://localhost:8080/"
        },
        "id": "mfak-yrpjBIj",
        "outputId": "8bbeaacb-2442-4c58-ef89-1776e7366c1b"
      },
      "source": [
        "n = int(input(\"Choose a number of rows\"));\n",
        "for i in range(n,0,-1):\n",
        "  for j in range(0,i+1):\n",
        "    print( j , end =\" \");\n",
        "  print(\"\\n\");"
      ],
      "execution_count": null,
      "outputs": [
        {
          "output_type": "stream",
          "text": [
            "Choose a number of rows5\n",
            "0 1 2 3 4 5 \n",
            "\n",
            "0 1 2 3 4 \n",
            "\n",
            "0 1 2 3 \n",
            "\n",
            "0 1 2 \n",
            "\n",
            "0 1 \n",
            "\n"
          ],
          "name": "stdout"
        }
      ]
    },
    {
      "cell_type": "markdown",
      "metadata": {
        "id": "DArOQrprjYJi"
      },
      "source": [
        "#3.\n",
        "###1\n",
        "###3 3\n",
        "###5 5 5\n",
        "###7 7 7 7\n",
        "###9 9 9 9 9"
      ]
    },
    {
      "cell_type": "code",
      "metadata": {
        "colab": {
          "base_uri": "https://localhost:8080/"
        },
        "id": "l8a0TnWtjhv0",
        "outputId": "b6b73a01-9b08-4d60-bd94-d8b05754c445"
      },
      "source": [
        "n = int(input(\"Choose a number of rows\"));\n",
        "i=1\n",
        "while i <= n :\n",
        "  j=1\n",
        "  while j <=i :\n",
        "    print((i * 2 - 1) , end=\" \")\n",
        "    j += 1\n",
        "  i += 1\n",
        "  print()\n",
        "\n"
      ],
      "execution_count": null,
      "outputs": [
        {
          "output_type": "stream",
          "text": [
            "Choose a number of rows5\n",
            "1 \n",
            "3 3 \n",
            "5 5 5 \n",
            "7 7 7 7 \n",
            "9 9 9 9 9 \n"
          ],
          "name": "stdout"
        }
      ]
    },
    {
      "cell_type": "markdown",
      "metadata": {
        "id": "S7AncrVzokhW"
      },
      "source": [
        "#4.\n",
        "###1\n",
        "###2 1\n",
        "###3 2 1\n",
        "###4 3 2 1\n",
        "###5 4 3 2 1\n"
      ]
    },
    {
      "cell_type": "code",
      "metadata": {
        "colab": {
          "base_uri": "https://localhost:8080/"
        },
        "id": "hE3aNN7borft",
        "outputId": "2d1bfb73-5d6f-4ade-ce8f-727742e27f26"
      },
      "source": [
        "n = int(input(\"Enter  rows: \"))\n",
        "for i in range(0, n+1):      #columns\n",
        "    for j in range(i,0,-1):  #rows\n",
        "      print(j, end=' ')\n",
        "    print()\n",
        "    "
      ],
      "execution_count": null,
      "outputs": [
        {
          "output_type": "stream",
          "text": [
            "Enter the no. of rows: 5\n",
            "\n",
            "1 \n",
            "2 1 \n",
            "3 2 1 \n",
            "4 3 2 1 \n",
            "5 4 3 2 1 \n"
          ],
          "name": "stdout"
        }
      ]
    },
    {
      "cell_type": "markdown",
      "metadata": {
        "id": "LPrNrdYrrnEW"
      },
      "source": [
        "#5.\n",
        "###1\n",
        "###3 2\n",
        "###6 5 4\n",
        "###10 9 8 7"
      ]
    },
    {
      "cell_type": "code",
      "metadata": {
        "colab": {
          "base_uri": "https://localhost:8080/"
        },
        "id": "7bxdKcTKr0RO",
        "outputId": "a9eb738d-7cb2-4fc2-ddbf-6c1954d17851"
      },
      "source": [
        "  a = 1\n",
        "  b = 2\n",
        "  n = b\n",
        "  for r in range(2,6):\n",
        "    for c in range(a,b):\n",
        "      n -= 1\n",
        "      print(n , end = \" \")\n",
        "    print(\"\")\n",
        "    a = b\n",
        "    b += r\n",
        "    n = b "
      ],
      "execution_count": null,
      "outputs": [
        {
          "output_type": "stream",
          "text": [
            "1 \n",
            "3 2 \n",
            "6 5 4 \n",
            "10 9 8 7 \n"
          ],
          "name": "stdout"
        }
      ]
    },
    {
      "cell_type": "markdown",
      "metadata": {
        "id": "79YzukpSu-yY"
      },
      "source": [
        "#6.\n",
        "###1\n",
        "###1 1\n",
        "###1 2 1\n",
        "###1 3 3 1\n",
        "###1 4 6 4 1\n",
        "###1 5 10 10 5 1\n",
        "###1 6 15 20 15 6 1"
      ]
    },
    {
      "cell_type": "code",
      "metadata": {
        "id": "anzd7767w884"
      },
      "source": [
        ""
      ],
      "execution_count": null,
      "outputs": []
    },
    {
      "cell_type": "markdown",
      "metadata": {
        "id": "KGNcmBI4w9c_"
      },
      "source": [
        "#7.\n",
        "###1 2 3 4 5\n",
        "###2 2 3 4 5\n",
        "###3 3 3 4 5\n",
        "###4 4 4 4 5\n",
        "###5 5 5 5 5\n"
      ]
    },
    {
      "cell_type": "code",
      "metadata": {
        "colab": {
          "base_uri": "https://localhost:8080/"
        },
        "id": "B14BywOjxHCf",
        "outputId": "e5e0a28b-3fa4-4e50-dd0b-042bcedc7e60"
      },
      "source": [
        "n = int(input(\"Choose rows\"));\n",
        "for i in range(n,0,-1):\n",
        "  for j in range(0,i+1):\n",
        "    print( j , end =\" \");\n",
        "  print(\"\\n\");"
      ],
      "execution_count": null,
      "outputs": [
        {
          "output_type": "stream",
          "text": [
            "Choose a number of rows5\n",
            "0 1 2 3 4 5 \n",
            "\n",
            "0 1 2 3 4 \n",
            "\n",
            "0 1 2 3 \n",
            "\n",
            "0 1 2 \n",
            "\n",
            "0 1 \n",
            "\n"
          ],
          "name": "stdout"
        }
      ]
    },
    {
      "cell_type": "markdown",
      "metadata": {
        "id": "eUslMm5PRHpS"
      },
      "source": [
        "###8.\n",
        "###1\n",
        "###2 4\n",
        "###3 6 9\n",
        "###4 8 12 16\n",
        "###5 10 15 20 25\n",
        "###6 12 18 24 30 36\n",
        "###7 14 21 28 35 42 49\n",
        "###8 16 24 32 40 48 56 64"
      ]
    },
    {
      "cell_type": "code",
      "metadata": {
        "colab": {
          "base_uri": "https://localhost:8080/"
        },
        "id": "vsmGsWHDRhLT",
        "outputId": "ff2a2570-7136-4a53-cf04-4cc843563308"
      },
      "source": [
        "n = int(input(\"Enter rows:\"))\n",
        "for i in range(1, n+1):\n",
        "  for j in range(1, i+1):\n",
        "    print(i*j, end=' ')\n",
        "  print()"
      ],
      "execution_count": null,
      "outputs": [
        {
          "output_type": "stream",
          "text": [
            "Enter the number of rows:8\n",
            "1 \n",
            "2 4 \n",
            "3 6 9 \n",
            "4 8 12 16 \n",
            "5 10 15 20 25 \n",
            "6 12 18 24 30 36 \n",
            "7 14 21 28 35 42 49 \n",
            "8 16 24 32 40 48 56 64 \n"
          ],
          "name": "stdout"
        }
      ]
    },
    {
      "cell_type": "markdown",
      "metadata": {
        "id": "yb44cwM6SB0f"
      },
      "source": [
        "###9.\n",
        "        * * * * * *  \n",
        "         * * * * *  \n",
        "          * * * *  \n",
        "           * * *  \n",
        "            * *  \n",
        "             *"
      ]
    },
    {
      "cell_type": "code",
      "metadata": {
        "colab": {
          "base_uri": "https://localhost:8080/"
        },
        "id": "YlXM2R2eSU8K",
        "outputId": "d5d5a300-ef9d-4aea-d539-a15881a709ce"
      },
      "source": [
        "n = 5\n",
        "k = 2*n-2\n",
        "for i in range(n, -1, -1):\n",
        "    for j in range(k, 0, -1):\n",
        "        print(end=\" \")\n",
        "    k = k + 1\n",
        "    for j in range(0, i + 1):\n",
        "        print(\"*\", end=\" \")\n",
        "    print(\" \")"
      ],
      "execution_count": null,
      "outputs": [
        {
          "output_type": "stream",
          "text": [
            "        * * * * * *  \n",
            "         * * * * *  \n",
            "          * * * *  \n",
            "           * * *  \n",
            "            * *  \n",
            "             *  \n"
          ],
          "name": "stdout"
        }
      ]
    },
    {
      "cell_type": "markdown",
      "metadata": {
        "id": "1C9TICCSTWfT"
      },
      "source": [
        "###10\n",
        "              *  \n",
        "             * *  \n",
        "            * * *  \n",
        "           * * * *  \n",
        "          * * * * *  \n",
        "         * * * * * *  \n",
        "        * * * * * * *  \n",
        "       * * * * * * * *"
      ]
    },
    {
      "cell_type": "code",
      "metadata": {
        "colab": {
          "base_uri": "https://localhost:8080/"
        },
        "id": "2Yj1K8-5Trzb",
        "outputId": "cc02228b-7fc5-4fda-e8d3-54015185e0cb"
      },
      "source": [
        "n = int(input(\"Enter rows:\"))\n",
        "m = 2*n-2\n",
        "for i in range(0,n):\n",
        "    for j in range(0,m):\n",
        "        print(end=\" \")\n",
        "    m = m-1\n",
        "    for j in range(0, i + 1):\n",
        "        print(\"*\", end=\" \")\n",
        "    print(\" \")"
      ],
      "execution_count": null,
      "outputs": [
        {
          "output_type": "stream",
          "text": [
            "Enter the number of rows:8\n",
            "              *  \n",
            "             * *  \n",
            "            * * *  \n",
            "           * * * *  \n",
            "          * * * * *  \n",
            "         * * * * * *  \n",
            "        * * * * * * *  \n",
            "       * * * * * * * *  \n"
          ],
          "name": "stdout"
        }
      ]
    },
    {
      "cell_type": "markdown",
      "metadata": {
        "id": "x96vqD81TN6G"
      },
      "source": [
        "###11."
      ]
    },
    {
      "cell_type": "code",
      "metadata": {
        "colab": {
          "base_uri": "https://localhost:8080/"
        },
        "id": "sb3JpUFzSlTr",
        "outputId": "bb17a41a-c9fd-4540-8fcf-21df303f959c"
      },
      "source": [
        "n = int(input(\"Enter rows:\"))\n",
        "\n",
        "#1st pattern\n",
        "\n",
        "for i in range(0,n):\n",
        "  for j in range(0,i+1):\n",
        "    print(\"*\",end=\" \")\n",
        "  print(\" \")\n",
        "\n",
        "print(\"                 \")\n",
        "#2nd pattern\n",
        "for i in range(n+1,0,-1):\n",
        "  for j in range(0,i-1):\n",
        "    print(\"*\",end=\" \")\n",
        "  print(\" \")"
      ],
      "execution_count": null,
      "outputs": [
        {
          "output_type": "stream",
          "text": [
            "Enter the number of rows:8\n",
            "*  \n",
            "* *  \n",
            "* * *  \n",
            "* * * *  \n",
            "* * * * *  \n",
            "* * * * * *  \n",
            "* * * * * * *  \n",
            "* * * * * * * *  \n",
            "                 \n",
            "* * * * * * * *  \n",
            "* * * * * * *  \n",
            "* * * * * *  \n",
            "* * * * *  \n",
            "* * * *  \n",
            "* * *  \n",
            "* *  \n",
            "*  \n",
            " \n"
          ],
          "name": "stdout"
        }
      ]
    },
    {
      "cell_type": "markdown",
      "metadata": {
        "id": "vMPvj6VQT4_g"
      },
      "source": [
        "###12.\n",
        " \n"
      ]
    },
    {
      "cell_type": "code",
      "metadata": {
        "colab": {
          "base_uri": "https://localhost:8080/"
        },
        "id": "_w66iTSNUyXn",
        "outputId": "47ef8e4d-5885-4bbd-b16d-e3bedf64ad3a"
      },
      "source": [
        "rows = 5\n",
        "for i in range(5):\n",
        "    for j in range(i):\n",
        "        print(\"*\", end=' ')\n",
        "    print()\n",
        "\n",
        "for k in range(5, 0, -1):\n",
        "    for l in range(k, 0, -1):\n",
        "        print(\"*\", end=' ')\n",
        "    print()"
      ],
      "execution_count": null,
      "outputs": [
        {
          "output_type": "stream",
          "text": [
            "\n",
            "* \n",
            "* * \n",
            "* * * \n",
            "* * * * \n",
            "* * * * * \n",
            "* * * * \n",
            "* * * \n",
            "* * \n",
            "* \n"
          ],
          "name": "stdout"
        }
      ]
    },
    {
      "cell_type": "markdown",
      "metadata": {
        "id": "hG-cLrhpU3zn"
      },
      "source": [
        "###13.\n"
      ]
    },
    {
      "cell_type": "code",
      "metadata": {
        "colab": {
          "base_uri": "https://localhost:8080/"
        },
        "id": "UA_MpwGMU7NL",
        "outputId": "0d6f123a-fa5a-440a-b765-fcd634736347"
      },
      "source": [
        "rows = 5\n",
        "i = 1\n",
        "while i <= rows:\n",
        "    j = i\n",
        "    while j < rows:\n",
        "        # display space\n",
        "        print(' ', end=' ')\n",
        "        j += 1\n",
        "    k = 1\n",
        "    while k <= i:\n",
        "        print('*', end=' ')\n",
        "        k += 1\n",
        "    print()\n",
        "    i += 1\n",
        "\n",
        "i = rows\n",
        "while i >= 1:\n",
        "    j = i\n",
        "    while j <= rows:\n",
        "        print(' ', end=' ')\n",
        "        j += 1\n",
        "    k = 1\n",
        "    while k < i:\n",
        "        print('*', end=' ')\n",
        "        k += 1\n",
        "    print('')\n",
        "    i -= 1"
      ],
      "execution_count": null,
      "outputs": [
        {
          "output_type": "stream",
          "text": [
            "        * \n",
            "      * * \n",
            "    * * * \n",
            "  * * * * \n",
            "* * * * * \n",
            "  * * * * \n",
            "    * * * \n",
            "      * * \n",
            "        * \n",
            "          \n"
          ],
          "name": "stdout"
        }
      ]
    },
    {
      "cell_type": "markdown",
      "metadata": {
        "id": "nXQonNkEV0td"
      },
      "source": [
        "###14.\n"
      ]
    },
    {
      "cell_type": "code",
      "metadata": {
        "colab": {
          "base_uri": "https://localhost:8080/"
        },
        "id": "nez_qxrcV64Y",
        "outputId": "bb99ab6d-3f6f-4379-f286-142e65557426"
      },
      "source": [
        "row = int(input(\"Enter number rows:\"))\n",
        "k = rows-2\n",
        "for i in range(rows, -1, -1):\n",
        "    for j in range(k, 0, -1):\n",
        "        print(end=\" \")\n",
        "    k = k+1\n",
        "    for j in range(0, i+1):\n",
        "        print(\"*\", end=\" \")\n",
        "    print()\n",
        "    \n",
        "k = 2*rows -2\n",
        "for i in range(0, rows+1):\n",
        "    for j in range(0,k):\n",
        "        print(end=\" \")\n",
        "    k = k-1\n",
        "    for j in range(0, i+1):\n",
        "        print('*', end=\" \")\n",
        "    print()"
      ],
      "execution_count": null,
      "outputs": [
        {
          "output_type": "stream",
          "text": [
            "Enter number of rows:5\n",
            "   * * * * * * \n",
            "    * * * * * \n",
            "     * * * * \n",
            "      * * * \n",
            "       * * \n",
            "        * \n",
            "        * \n",
            "       * * \n",
            "      * * * \n",
            "     * * * * \n",
            "    * * * * * \n",
            "   * * * * * * \n"
          ],
          "name": "stdout"
        }
      ]
    },
    {
      "cell_type": "markdown",
      "metadata": {
        "id": "CoWcfGzCWSPb"
      },
      "source": [
        "###15."
      ]
    },
    {
      "cell_type": "code",
      "metadata": {
        "colab": {
          "base_uri": "https://localhost:8080/"
        },
        "id": "MBfPD1blWWL4",
        "outputId": "1ddb15cc-b389-47a1-9bfd-675455b6a33c"
      },
      "source": [
        "rows = 14\n",
        "print(\"*\" * rows, end=\"\\n\")\n",
        "i = (rows // 2) - 1\n",
        "j = 2\n",
        "while i != 0:\n",
        "    while j <= (rows - 2):\n",
        "        print(\"*\" * i, end=\"\")\n",
        "        print(\"_\" * j, end=\"\")\n",
        "        print(\"*\" * i, end=\"\\n\")\n",
        "        i = i - 1\n",
        "        j = j + 2"
      ],
      "execution_count": null,
      "outputs": [
        {
          "output_type": "stream",
          "text": [
            "**************\n",
            "******__******\n",
            "*****____*****\n",
            "****______****\n",
            "***________***\n",
            "**__________**\n",
            "*____________*\n"
          ],
          "name": "stdout"
        }
      ]
    }
  ]
}