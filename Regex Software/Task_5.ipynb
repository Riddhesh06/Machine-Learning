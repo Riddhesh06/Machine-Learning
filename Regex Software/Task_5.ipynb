{
  "nbformat": 4,
  "nbformat_minor": 0,
  "metadata": {
    "colab": {
      "name": "Task_5.ipynb",
      "provenance": [],
      "collapsed_sections": []
    },
    "kernelspec": {
      "name": "python3",
      "display_name": "Python 3"
    },
    "language_info": {
      "name": "python"
    }
  },
  "cells": [
    {
      "cell_type": "markdown",
      "metadata": {
        "id": "LG8oHqtygLqh"
      },
      "source": [
        "Q1. Given a list of integers, write a function to return the sum of all prime numbers in that list."
      ]
    },
    {
      "cell_type": "code",
      "metadata": {
        "id": "6xuYfHdlQixn",
        "colab": {
          "base_uri": "https://localhost:8080/"
        },
        "outputId": "85e00f27-1c75-4737-b657-ce7c5652036e"
      },
      "source": [
        "lower = int(input(\"Enter lower range: \"))\n",
        "upper = int(input(\"Enter upper range: \"))\n",
        "lst=[]\n",
        "print(\"Prime numbers between\",lower,\"and\",upper,\"are:\")\n",
        "\n",
        "for num in range(lower,upper + 1):\n",
        "\n",
        "   if num > 1:\n",
        "       for i in range(2,num):\n",
        "           if (num % i) == 0:\n",
        "\n",
        "               break\n",
        "       else:\n",
        "           print(num)\n",
        "           lst.append(num)\n",
        "print(lst)\n",
        "sum=0\n",
        "for i in lst:\n",
        "    sum=sum+i\n",
        "print('sum of all prime numbers in the list are : %d'%sum)"
      ],
      "execution_count": 26,
      "outputs": [
        {
          "output_type": "stream",
          "text": [
            "Enter lower range: 4\n",
            "Enter upper range: 5\n",
            "Prime numbers between 4 and 5 are:\n",
            "5\n",
            "[5]\n",
            "sum of all prime numbers in the list are : 5\n"
          ],
          "name": "stdout"
        }
      ]
    },
    {
      "cell_type": "markdown",
      "metadata": {
        "id": "Fbg1wJerhGzG"
      },
      "source": [
        "Q2. Given a list of integers, write a function to check whether the list is strictly increasing or\n",
        "not."
      ]
    },
    {
      "cell_type": "code",
      "metadata": {
        "id": "OuTRhznWeuIB",
        "colab": {
          "base_uri": "https://localhost:8080/"
        },
        "outputId": "41bbbbee-0a6c-4f22-c099-9445d26f0a8b"
      },
      "source": [
        "\n",
        "a = int(input(\"Enter 1st number\"))\n",
        "b = int(input(\"Enter 2st number\"))\n",
        "c = int(input(\"Enter 3st number\"))\n",
        "d = int(input(\"Enter 4st number\"))\n",
        "\n",
        "test_list = a,b,c,d;\n",
        "\n",
        "# printing original lists\n",
        "print (\"Original list : \" + str(test_list))\n",
        "\n",
        "# to check for strictly increasing list\n",
        "res = all(i < j for i, j in zip(test_list, test_list[1:]))\n",
        "\n",
        "# printing result\n",
        "print (\"Is the list strictly increasing ? -: \" + str(res))\n"
      ],
      "execution_count": 27,
      "outputs": [
        {
          "output_type": "stream",
          "text": [
            "Enter 1st number1\n",
            "Enter 2st number4\n",
            "Enter 3st number6\n",
            "Enter 4st number8\n",
            "Original list : (1, 4, 6, 8)\n",
            "Is the list strictly increasing ? -: True\n"
          ],
          "name": "stdout"
        }
      ]
    },
    {
      "cell_type": "markdown",
      "metadata": {
        "id": "yJSRtXwvaXHS"
      },
      "source": [
        "Q3.Write a function to check whether a given list is expanding or not (the difference\n",
        "between adjacent elements should keep on increasing)."
      ]
    },
    {
      "cell_type": "code",
      "metadata": {
        "id": "su_frL4GaXr5",
        "colab": {
          "base_uri": "https://localhost:8080/"
        },
        "outputId": "8e21db0d-5d53-4624-892b-8c8ee429f485"
      },
      "source": [
        "def exp(l):\n",
        "    diff=0\n",
        "    flag=False\n",
        "    for i in range(1,len(l)):\n",
        "        diff1=l[i]-l[i-1]\n",
        "        if diff>diff1:\n",
        "            flag=True\n",
        "            break\n",
        "        diff=diff1\n",
        "            \n",
        "    return  flag\n",
        "\n",
        "l1 = int(input(\"Enter number of elements : \"))\n",
        "  \n",
        "list1 = list(map(int,input(\"\\nEnter the numbers : \").strip().split()))[:l1]\n",
        "\n",
        "print('List is expanding: ',exp(list1))"
      ],
      "execution_count": 23,
      "outputs": [
        {
          "output_type": "stream",
          "text": [
            "Enter number of elements : 4\n",
            "\n",
            "Enter the numbers : 1 2 3 4 \n",
            "List is expanding:  False\n"
          ],
          "name": "stdout"
        }
      ]
    },
    {
      "cell_type": "markdown",
      "metadata": {
        "id": "rnzv9wpaQaJ1"
      },
      "source": [
        "Q4.Write a function to calculate all permutations of a given string. (Without using itertools)\n",
        "\n",
        "\n"
      ]
    },
    {
      "cell_type": "code",
      "metadata": {
        "colab": {
          "base_uri": "https://localhost:8080/"
        },
        "id": "XAtYkMovQ-9k",
        "outputId": "d954da57-63c0-4ecb-880f-823bb2b637d5"
      },
      "source": [
        "def perm(string, steps = 0):\n",
        "    if steps == len(string):\n",
        "        print(\"\".join(string))\n",
        "\n",
        "    for i in range(steps, len(string)):\n",
        "\n",
        "        string_copy = [character for character in string]\n",
        "\n",
        "        string_copy[steps], string_copy[i] = string_copy[i], string_copy[steps]\n",
        "\n",
        "        perm(string_copy, steps + 1)\n",
        "perm(str(input(\"Enter the characters : \")))"
      ],
      "execution_count": 28,
      "outputs": [
        {
          "output_type": "stream",
          "text": [
            "Enter the characters : abc\n",
            "abc\n",
            "acb\n",
            "bac\n",
            "bca\n",
            "cba\n",
            "cab\n"
          ],
          "name": "stdout"
        }
      ]
    }
  ]
}